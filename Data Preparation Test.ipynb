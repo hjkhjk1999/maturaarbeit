{
 "cells": [
  {
   "cell_type": "code",
   "execution_count": 196,
   "metadata": {
    "scrolled": true
   },
   "outputs": [],
   "source": [
    "#importing the libraries\n",
    "import numpy as np\n",
    "import pandas as pd\n",
    "from sklearn.preprocessing import LabelBinarizer\n",
    "from sklearn.preprocessing import MinMaxScaler\n",
    "from sklearn.preprocessing import StandardScaler\n",
    "from sklearn.model_selection import train_test_split\n",
    "from sklearn.model_selection import cross_val_score\n",
    "from sklearn.metrics import precision_recall_curve\n",
    "from sklearn.model_selection import cross_val_predict\n",
    "from sklearn.metrics import confusion_matrix\n",
    "from sklearn.metrics import precision_score, recall_score\n",
    "from sklearn.metrics import roc_curve\n",
    "#make the noteputs output stable\n",
    "np.random.seed(42)\n",
    "\n",
    "\n",
    "#to plot\n",
    "import matplotlib\n",
    "import matplotlib.pyplot as plt\n",
    "plt.rcParams['axes.labelsize'] = 14\n",
    "plt.rcParams['xtick.labelsize'] = 12\n",
    "plt.rcParams['ytick.labelsize'] = 12\n",
    "\n",
    "#loading the data\n",
    "daten_full = pd.read_csv(\"wdbc.csv\")\n",
    "\n",
    "\n",
    "#formatting the data-------------------------------------------------------------------------------------------------------------------------------\n",
    "\n",
    "#removing the 'ID' Column\n",
    "daten = daten_full.drop('ID',1)\n",
    "\n",
    "#splitting the dataset into training and test set\n",
    "train_set,test_set=train_test_split(daten,test_size=0.2)\n",
    "\n",
    "#splitting the training set into data and labels\n",
    "x_train = train_set.drop('Label',1)\n",
    "y_train = LabelBinarizer().fit_transform(train_set['Label'].values.reshape(-1,1))\n",
    "#scaling the train_set data\n",
    "x_train_prepared = MinMaxScaler().fit_transform(x_train)\n",
    "\n",
    "#splitting the test set into data and labels\n",
    "x_test = test_set.drop('Label',1)\n",
    "y_test = LabelBinarizer().fit_transform(test_set['Label'].values.reshape(-1,1))\n",
    "#scaling the test_set data\n",
    "x_test_prepared = MinMaxScaler().fit_transform(x_test)\n",
    "\n",
    "#preparing the test and training and data for binary classification\n",
    "y_train_1  = (y_train == 1)\n",
    "y_train_prepared = y_train_1.ravel()\n",
    "y_test_1 = (y_test == 1)\n",
    "y_test_prepared = y_test_1.ravel()\n",
    "\n",
    "\n",
    "#to test the various models and classification--------------------------------------------------------------------------------------------------------\n",
    "model_data = daten.drop('Label',1)\n",
    "model_data_2 = MinMaxScaler().fit_transform(model_data)\n",
    "some_data = model_data_2[:5]\n",
    "model_label = LabelBinarizer().fit_transform(daten['Label'].values.reshape(-1,1))\n",
    "some_label = model_label[:5]"
   ]
  },
  {
   "cell_type": "code",
   "execution_count": 164,
   "metadata": {
    "scrolled": true
   },
   "outputs": [
    {
     "name": "stdout",
     "output_type": "stream",
     "text": [
      "0.842105263158\n"
     ]
    }
   ],
   "source": [
    "#linear regression model\n",
    "from sklearn.linear_model import LinearRegression\n",
    "lin_reg = LinearRegression()\n",
    "lin_reg.fit(x_train_prepared,y_train)\n",
    "y_lin_reg_pred = lin_reg.predict(x_test_prepared)\n",
    "\n",
    "#evaluating the model\n",
    "accuracy_lin_reg = accuracy_score(y_test,y_lin_reg_pred.round(),normalize=True)\n",
    "print(accuracy_lin_reg)"
   ]
  },
  {
   "cell_type": "code",
   "execution_count": 167,
   "metadata": {},
   "outputs": [
    {
     "name": "stdout",
     "output_type": "stream",
     "text": [
      "0.842105263158\n"
     ]
    }
   ],
   "source": [
    "#decision tree regressor model\n",
    "from sklearn.tree import DecisionTreeRegressor\n",
    "tree_reg = DecisionTreeRegressor(random_state = 42)\n",
    "tree_reg.fit(x_train_prepared,y_train)\n",
    "y_tree_reg_pred = tree_reg.predict(x_test_prepared)\n",
    "\n",
    "#evaluating the model\n",
    "accuracy_tree_reg = accuracy_score(y_test,y_tree_reg_pred.round(),normalize=True)\n",
    "print(accuracy_tree_reg)"
   ]
  },
  {
   "cell_type": "code",
   "execution_count": 166,
   "metadata": {},
   "outputs": [
    {
     "name": "stdout",
     "output_type": "stream",
     "text": [
      "0.929824561404\n"
     ]
    },
    {
     "name": "stderr",
     "output_type": "stream",
     "text": [
      "C:\\Users\\Shitao Zeng\\AppData\\Local\\conda\\conda\\envs\\application1\\lib\\site-packages\\sklearn\\utils\\validation.py:526: DataConversionWarning: A column-vector y was passed when a 1d array was expected. Please change the shape of y to (n_samples, ), for example using ravel().\n",
      "  y = column_or_1d(y, warn=True)\n"
     ]
    }
   ],
   "source": [
    "#support vector regression model\n",
    "from sklearn.svm import SVR\n",
    "svm_reg = SVR(kernel=\"linear\")\n",
    "svm_reg.fit(x_train_prepared,y_train)\n",
    "y_svm_reg_pred = svm_reg.predict(x_test_prepared)\n",
    "\n",
    "#evaluating the model\n",
    "accuracy_svm_reg = accuracy_score(y_test,y_svm_reg_pred.round(),normalize=True)\n",
    "print(accuracy_svm_reg)"
   ]
  },
  {
   "cell_type": "code",
   "execution_count": 147,
   "metadata": {},
   "outputs": [
    {
     "name": "stdout",
     "output_type": "stream",
     "text": [
      "0.929824561404\n"
     ]
    },
    {
     "name": "stderr",
     "output_type": "stream",
     "text": [
      "C:\\Users\\Shitao Zeng\\AppData\\Local\\conda\\conda\\envs\\application1\\lib\\site-packages\\ipykernel_launcher.py:4: DataConversionWarning: A column-vector y was passed when a 1d array was expected. Please change the shape of y to (n_samples,), for example using ravel().\n",
      "  after removing the cwd from sys.path.\n"
     ]
    }
   ],
   "source": [
    "#random forest regressor model\n",
    "from sklearn.ensemble import RandomForestRegressor\n",
    "forest_reg = RandomForestRegressor(random_state=42)\n",
    "forest_reg.fit(x_train_prepared,y_train)\n",
    "y_forest_reg_pred = forest_reg.predict(x_test_prepared)\n",
    "\n",
    "#evaluating the model\n",
    "accuracy_forest_reg = accuracy_score(y_test,y_forest_reg_pred.round(),normalize=True)\n",
    "print(accuracy_forest_reg)"
   ]
  },
  {
   "cell_type": "code",
   "execution_count": 197,
   "metadata": {},
   "outputs": [
    {
     "data": {
      "image/png": "[encoded data removed]",
      "text/plain": [
       "<matplotlib.figure.Figure at 0x19bba9ad390>"
      ]
     },
     "metadata": {},
     "output_type": "display_data"
    },
    {
     "data": {
      "image/png": "[encoded data removed]",
      "text/plain": [
       "<matplotlib.figure.Figure at 0x19bbaaa2a90>"
      ]
     },
     "metadata": {},
     "output_type": "display_data"
    }
   ],
   "source": [
    "#SGD Classifier\n",
    "from sklearn.linear_model import SGDClassifier\n",
    "sgd_clf = SGDClassifier(random_state=42)\n",
    "sgd_clf.fit(x_train_prepared,y_train_prepared)\n",
    "\n",
    "#evalutating the classifier\n",
    "cross_val_score(sgd_clf, x_train_prepared, y_train_prepared, cv=10, scoring=\"accuracy\")\n",
    "y_scores = cross_val_predict(sgd_clf, x_train_prepared, y_train_prepared, cv=3, method=\"decision_function\")\n",
    "precisions, recalls, thresholds = precision_recall_curve(y_train_prepared, y_scores)\n",
    "\n",
    "#plotting precision recall vs threshhold\n",
    "def plot_precision_recall_vs_threshold(precisions, recalls, thresholds):\n",
    "    plt.plot(thresholds, precisions[:-1], \"b--\", label=\"Precision\", linewidth=2)\n",
    "    plt.plot(thresholds, recalls[:-1], \"g-\", label=\"Recall\", linewidth=2)\n",
    "    plt.xlabel(\"Threshold\", fontsize=16)\n",
    "    plt.legend(loc=\"upper left\", fontsize=16)\n",
    "    plt.ylim([0, 1])\n",
    "\n",
    "plt.figure(figsize=(8, 4))\n",
    "plot_precision_recall_vs_threshold(precisions, recalls, thresholds)\n",
    "plt.xlim([-20, 20])\n",
    "plt.show()\n",
    "\n",
    "#plotting the ROC curve\n",
    "fpr, tpr, thresholds = roc_curve(y_train_prepared, y_scores)\n",
    "\n",
    "def plot_roc_curve(fpr, tpr, label=None):\n",
    "    plt.plot(fpr, tpr, linewidth=2, label=label)\n",
    "    plt.plot([0, 1], [0, 1], 'k--')\n",
    "    plt.axis([0, 1, 0, 1])\n",
    "    plt.xlabel('False Positive Rate', fontsize=16)\n",
    "    plt.ylabel('True Positive Rate', fontsize=16)\n",
    "\n",
    "plt.figure(figsize=(8, 6))\n",
    "plot_roc_curve(fpr, tpr)\n",
    "plt.show()"
   ]
  },
  {
   "cell_type": "code",
   "execution_count": null,
   "metadata": {
    "collapsed": true
   },
   "outputs": [],
   "source": []
  }
 ],
 "metadata": {
  "kernelspec": {
   "display_name": "Python 3",
   "language": "python",
   "name": "python3"
  },
  "language_info": {
   "codemirror_mode": {
    "name": "ipython",
    "version": 3
   },
   "file_extension": ".py",
   "mimetype": "text/x-python",
   "name": "python",
   "nbconvert_exporter": "python",
   "pygments_lexer": "ipython3",
   "version": "3.5.3"
  },
  "toc": {
   "colors": {
    "hover_highlight": "#DAA520",
    "navigate_num": "#000000",
    "navigate_text": "#333333",
    "running_highlight": "#FF0000",
    "selected_highlight": "#FFD700",
    "sidebar_border": "#EEEEEE",
    "wrapper_background": "#FFFFFF"
   },
   "moveMenuLeft": true,
   "nav_menu": {
    "height": "12px",
    "width": "252px"
   },
   "navigate_menu": true,
   "number_sections": true,
   "sideBar": true,
   "threshold": 4,
   "toc_cell": false,
   "toc_section_display": "block",
   "toc_window_display": false,
   "widenNotebook": false
  }
 },
 "nbformat": 4,
 "nbformat_minor": 2
}
