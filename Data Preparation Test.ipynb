{
 "cells": [
  {
   "cell_type": "code",
   "execution_count": 138,
   "metadata": {
    "scrolled": true
   },
   "outputs": [],
   "source": [
    "#importing the libraries\n",
    "import numpy as np\n",
    "import pandas as pd\n",
    "from sklearn.preprocessing import LabelBinarizer\n",
    "from sklearn.preprocessing import MinMaxScaler\n",
    "from sklearn.preprocessing import StandardScaler\n",
    "from sklearn.model_selection import train_test_split\n",
    "from sklearn.metrics import accuracy_score\n",
    "#make the noteputs output stable\n",
    "np.random.seed(42)\n",
    "\n",
    "\n",
    "#to plot\n",
    "import matplotlib\n",
    "import matplotlib.pyplot as plt\n",
    "plt.rcParams['axes.labelsize'] = 14\n",
    "plt.rcParams['xtick.labelsize'] = 12\n",
    "plt.rcParams['ytick.labelsize'] = 12\n",
    "\n",
    "#loading the data\n",
    "daten_full = pd.read_csv(\"wdbc.csv\")\n",
    "\n",
    "\n",
    "#formatting the data-------------------------------------------------------------------------------------------------------------------------------\n",
    "\n",
    "#removing the 'ID' Column\n",
    "daten = daten_full.drop('ID',1)\n",
    "\n",
    "#splitting the dataset into training and test set\n",
    "train_set,test_set=train_test_split(daten,test_size=0.2)\n",
    "\n",
    "#splitting the training set into data and labels\n",
    "x_train = train_set.drop('Label',1)\n",
    "y_train = LabelBinarizer().fit_transform(train_set['Label'].values.reshape(-1,1))\n",
    "#scaling the train_set data\n",
    "x_train_prepared = MinMaxScaler().fit_transform(x_train)\n",
    "\n",
    "#splitting the test set into data and labels\n",
    "x_test = test_set.drop('Label',1)\n",
    "y_test = LabelBinarizer().fit_transform(test_set['Label'].values.reshape(-1,1))\n",
    "#scaling the test_set data\n",
    "x_test_prepared = MinMaxScaler().fit_transform(x_test)\n",
    "\n",
    "\n",
    "#to test the various models-------------------------------------------------------------------------------------------------------------------------\n",
    "model_data = daten.drop('Label',1)\n",
    "model_data_2 = MinMaxScaler().fit_transform(model_data)\n",
    "some_data = model_data_2[:5]\n",
    "model_label = LabelBinarizer().fit_transform(daten['Label'].values.reshape(-1,1))\n",
    "some_label = model_label[:5]"
   ]
  },
  {
   "cell_type": "code",
   "execution_count": null,
   "metadata": {
    "collapsed": true
   },
   "outputs": [],
   "source": [
    "#data exploration\n"
   ]
  },
  {
   "cell_type": "code",
   "execution_count": 144,
   "metadata": {
    "scrolled": true
   },
   "outputs": [
    {
     "name": "stdout",
     "output_type": "stream",
     "text": [
      "0.842105263158\n"
     ]
    }
   ],
   "source": [
    "#linear regression model\n",
    "from sklearn.linear_model import LinearRegression\n",
    "lin_reg = LinearRegression()\n",
    "lin_reg.fit(x_train_prepared,y_train)\n",
    "y_lin_reg_pred = lin_reg.predict(x_test_prepared)\n",
    "\n",
    "#evaluating the model\n",
    "accuracy_lin_reg = accuracy_score(y_test,y_lin_reg_pred.round(),normalize=True)\n",
    "print(accuracy_lin_reg)"
   ]
  },
  {
   "cell_type": "code",
   "execution_count": 146,
   "metadata": {},
   "outputs": [
    {
     "name": "stdout",
     "output_type": "stream",
     "text": [
      "0.842105263158\n"
     ]
    }
   ],
   "source": [
    "#decision tree regressor model\n",
    "from sklearn.tree import DecisionTreeRegressor\n",
    "tree_reg = DecisionTreeRegressor(random_state = 42)\n",
    "tree_reg.fit(x_train_prepared,y_train)\n",
    "y_tree_reg_pred = tree_reg.predict(x_test_prepared)\n",
    "\n",
    "#evaluating the model\n",
    "accuracy_tree_reg = accuracy_score(y_test,y_tree_reg_pred.round(),normalize=True)\n",
    "print(accuracy_tree_reg)"
   ]
  },
  {
   "cell_type": "code",
   "execution_count": 137,
   "metadata": {},
   "outputs": [
    {
     "name": "stdout",
     "output_type": "stream",
     "text": [
      "0.929824561404\n"
     ]
    },
    {
     "name": "stderr",
     "output_type": "stream",
     "text": [
      "C:\\Users\\Shitao Zeng\\AppData\\Local\\conda\\conda\\envs\\application1\\lib\\site-packages\\sklearn\\utils\\validation.py:526: DataConversionWarning: A column-vector y was passed when a 1d array was expected. Please change the shape of y to (n_samples, ), for example using ravel().\n",
      "  y = column_or_1d(y, warn=True)\n"
     ]
    }
   ],
   "source": [
    "#support vector regression model\n",
    "from sklearn.svm import SVR\n",
    "svm_reg = SVR(kernel=\"linear\")\n",
    "svm_reg.fit(x_train_prepared,y_train)\n",
    "y_svm_reg_pred = svm_reg.predict(x_test_prepared)\n",
    "\n",
    "#evaluating the model\n",
    "accuracy_svm_reg = accuracy_score(y_test,y_svm_reg_pred.round(),normalize=True)\n",
    "print(accuracy_svm_reg)"
   ]
  },
  {
   "cell_type": "code",
   "execution_count": 147,
   "metadata": {},
   "outputs": [
    {
     "name": "stdout",
     "output_type": "stream",
     "text": [
      "0.929824561404\n"
     ]
    },
    {
     "name": "stderr",
     "output_type": "stream",
     "text": [
      "C:\\Users\\Shitao Zeng\\AppData\\Local\\conda\\conda\\envs\\application1\\lib\\site-packages\\ipykernel_launcher.py:4: DataConversionWarning: A column-vector y was passed when a 1d array was expected. Please change the shape of y to (n_samples,), for example using ravel().\n",
      "  after removing the cwd from sys.path.\n"
     ]
    }
   ],
   "source": [
    "#random forest regressor model\n",
    "from sklearn.ensemble import RandomForestRegressor\n",
    "forest_reg = RandomForestRegressor(random_state=42)\n",
    "forest_reg.fit(x_train_prepared,y_train)\n",
    "y_forest_reg_pred = forest_reg.predict(x_test_prepared)\n",
    "\n",
    "#evaluating the model\n",
    "accuracy_forest_reg = accuracy_score(y_test,y_forest_reg_pred.round(),normalize=True)\n",
    "print(accuracy_forest_reg)"
   ]
  },
  {
   "cell_type": "code",
   "execution_count": null,
   "metadata": {
    "collapsed": true
   },
   "outputs": [],
   "source": []
  }
 ],
 "metadata": {
  "kernelspec": {
   "display_name": "Python 3",
   "language": "python",
   "name": "python3"
  },
  "language_info": {
   "codemirror_mode": {
    "name": "ipython",
    "version": 3
   },
   "file_extension": ".py",
   "mimetype": "text/x-python",
   "name": "python",
   "nbconvert_exporter": "python",
   "pygments_lexer": "ipython3",
   "version": "3.5.3"
  },
  "toc": {
   "colors": {
    "hover_highlight": "#DAA520",
    "navigate_num": "#000000",
    "navigate_text": "#333333",
    "running_highlight": "#FF0000",
    "selected_highlight": "#FFD700",
    "sidebar_border": "#EEEEEE",
    "wrapper_background": "#FFFFFF"
   },
   "moveMenuLeft": true,
   "nav_menu": {
    "height": "12px",
    "width": "252px"
   },
   "navigate_menu": true,
   "number_sections": true,
   "sideBar": true,
   "threshold": 4,
   "toc_cell": false,
   "toc_section_display": "block",
   "toc_window_display": false,
   "widenNotebook": false
  }
 },
 "nbformat": 4,
 "nbformat_minor": 2
}
