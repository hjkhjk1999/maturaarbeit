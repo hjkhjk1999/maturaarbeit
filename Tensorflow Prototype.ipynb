{
 "cells": [
  {
   "cell_type": "code",
   "execution_count": 5,
   "metadata": {
    "collapsed": true
   },
   "outputs": [],
   "source": [
    "#importing the libraries\n",
    "import numpy as np\n",
    "import pandas as pd\n",
    "import tensorflow as tf\n",
    "from sklearn.preprocessing import LabelBinarizer\n",
    "from sklearn.preprocessing import MinMaxScaler\n",
    "from sklearn.preprocessing import StandardScaler\n",
    "from sklearn.model_selection import train_test_split\n",
    "from sklearn.model_selection import cross_val_score\n",
    "from sklearn.metrics import precision_recall_curve\n",
    "from sklearn.model_selection import cross_val_predict\n",
    "from sklearn.metrics import confusion_matrix\n",
    "from sklearn.metrics import precision_score, recall_score\n",
    "from sklearn.metrics import roc_curve\n",
    "from datetime import datetime\n",
    "\n",
    "\n",
    "#make the noteputs output stable\n",
    "def reset_graph(seed=42):\n",
    "    tf.reset_default_graph()\n",
    "    tf.set_random_seed(seed)\n",
    "    np.random.seed(seed)\n",
    "\n",
    "\n",
    "#to plot\n",
    "import matplotlib\n",
    "import matplotlib.pyplot as plt\n",
    "plt.rcParams['axes.labelsize'] = 14\n",
    "plt.rcParams['xtick.labelsize'] = 12\n",
    "plt.rcParams['ytick.labelsize'] = 12\n",
    "\n",
    "\n",
    "# Where to save the figures\n",
    "PROJECT_ROOT_DIR = \".\"\n",
    "CHAPTER_ID = \"tensorflow\"\n",
    "\n",
    "def save_fig(fig_id, tight_layout=True):\n",
    "    path = os.path.join(PROJECT_ROOT_DIR, \"images\", CHAPTER_ID, fig_id + \".png\")\n",
    "    print(\"Saving figure\", fig_id)\n",
    "    if tight_layout:\n",
    "        plt.tight_layout()\n",
    "    plt.savefig(path, format='png', dpi=300)\n",
    "    \n",
    "\n",
    "#loading the data\n",
    "daten_full = pd.read_csv(\"wdbc.csv\")\n",
    "\n",
    "\n",
    "#formatting the data-------------------------------------------------------------------------------------------------------------------------------\n",
    "\n",
    "#removing the 'ID' Column\n",
    "daten = daten_full.drop('ID',1)\n",
    "\n",
    "#splitting the dataset into training and test set\n",
    "train_set,test_set=train_test_split(daten,test_size=0.2)\n",
    "\n",
    "#splitting the training set into data and labels\n",
    "x_train = train_set.drop('Label',1)\n",
    "y_train = LabelBinarizer().fit_transform(train_set['Label'].values.reshape(-1,1))\n",
    "#scaling the train_set data\n",
    "x_train_prepared = StandardScaler().fit_transform(x_train)\n",
    "\n",
    "#splitting the test set into data and labels\n",
    "x_test = test_set.drop('Label',1)\n",
    "y_test = LabelBinarizer().fit_transform(test_set['Label'].values.reshape(-1,1))\n",
    "#scaling the test_set data\n",
    "x_test_prepared = StandardScaler().fit_transform(x_test)\n",
    "\n",
    "#preparing the test and training and data for binary classification\n",
    "y_train_1  = (y_train == 1)\n",
    "y_train_prepared = y_train_1.ravel()\n",
    "y_test_1 = (y_test == 1)\n",
    "y_test_prepared = y_test_1.ravel()\n",
    "\n",
    "\n",
    "#to test the various models and classification--------------------------------------------------------------------------------------------------------\n",
    "model_data = daten.drop('Label',1)\n",
    "model_data_2 = MinMaxScaler().fit_transform(model_data)\n",
    "some_data = model_data_2[:5]\n",
    "model_label = LabelBinarizer().fit_transform(daten['Label'].values.reshape(-1,1))\n",
    "some_label = model_label[:5]"
   ]
  },
  {
   "cell_type": "code",
   "execution_count": null,
   "metadata": {
    "collapsed": true
   },
   "outputs": [],
   "source": []
  }
 ],
 "metadata": {
  "kernelspec": {
   "display_name": "Python 3",
   "language": "python",
   "name": "python3"
  },
  "language_info": {
   "codemirror_mode": {
    "name": "ipython",
    "version": 3
   },
   "file_extension": ".py",
   "mimetype": "text/x-python",
   "name": "python",
   "nbconvert_exporter": "python",
   "pygments_lexer": "ipython3",
   "version": "3.5.3"
  },
  "toc": {
   "colors": {
    "hover_highlight": "#DAA520",
    "navigate_num": "#000000",
    "navigate_text": "#333333",
    "running_highlight": "#FF0000",
    "selected_highlight": "#FFD700",
    "sidebar_border": "#EEEEEE",
    "wrapper_background": "#FFFFFF"
   },
   "moveMenuLeft": true,
   "nav_menu": {
    "height": "12px",
    "width": "252px"
   },
   "navigate_menu": true,
   "number_sections": true,
   "sideBar": true,
   "threshold": 4,
   "toc_cell": false,
   "toc_section_display": "block",
   "toc_window_display": false,
   "widenNotebook": false
  }
 },
 "nbformat": 4,
 "nbformat_minor": 2
}
